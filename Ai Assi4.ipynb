{
 "cells": [
  {
   "cell_type": "code",
   "execution_count": 1,
   "id": "e53ccd0b-aab8-4a0f-9b9d-7b170ebf1d85",
   "metadata": {},
   "outputs": [
    {
     "name": "stdout",
     "output_type": "stream",
     "text": [
      "Requirement already satisfied: nltk in c:\\users\\rushi\\anaconda3\\lib\\site-packages (3.8.1)\n",
      "Requirement already satisfied: click in c:\\users\\rushi\\anaconda3\\lib\\site-packages (from nltk) (8.1.7)\n",
      "Requirement already satisfied: joblib in c:\\users\\rushi\\anaconda3\\lib\\site-packages (from nltk) (1.4.2)\n",
      "Requirement already satisfied: regex>=2021.8.3 in c:\\users\\rushi\\anaconda3\\lib\\site-packages (from nltk) (2023.10.3)\n",
      "Requirement already satisfied: tqdm in c:\\users\\rushi\\appdata\\roaming\\python\\python312\\site-packages (from nltk) (4.66.5)\n",
      "Requirement already satisfied: colorama in c:\\users\\rushi\\appdata\\roaming\\python\\python312\\site-packages (from click->nltk) (0.4.6)\n"
     ]
    }
   ],
   "source": [
    "!pip install nltk"
   ]
  },
  {
   "cell_type": "code",
   "execution_count": 3,
   "id": "da5981f5-a84c-4028-a3ce-507abd2115bc",
   "metadata": {},
   "outputs": [],
   "source": [
    "import nltk \n",
    "from nltk.tokenize import word_tokenize\n",
    "from nltk.corpus import stopwords\n",
    "from collections import Counter"
   ]
  },
  {
   "cell_type": "code",
   "execution_count": 5,
   "id": "c1d55c05-a9b7-4413-a681-a77c73d4a9db",
   "metadata": {},
   "outputs": [
    {
     "name": "stderr",
     "output_type": "stream",
     "text": [
      "[nltk_data] Downloading package punkt to\n",
      "[nltk_data]     C:\\Users\\rushi\\AppData\\Roaming\\nltk_data...\n",
      "[nltk_data]   Package punkt is already up-to-date!\n",
      "[nltk_data] Downloading package stopwords to\n",
      "[nltk_data]     C:\\Users\\rushi\\AppData\\Roaming\\nltk_data...\n",
      "[nltk_data]   Package stopwords is already up-to-date!\n",
      "[nltk_data] Downloading package averaged_perceptron_tagger to\n",
      "[nltk_data]     C:\\Users\\rushi\\AppData\\Roaming\\nltk_data...\n",
      "[nltk_data]   Unzipping taggers\\averaged_perceptron_tagger.zip.\n"
     ]
    },
    {
     "data": {
      "text/plain": [
       "True"
      ]
     },
     "execution_count": 5,
     "metadata": {},
     "output_type": "execute_result"
    }
   ],
   "source": [
    "nltk.download('punkt')\n",
    "nltk.download('stopwords')\n",
    "nltk.download('averaged_perceptron_tagger')"
   ]
  },
  {
   "cell_type": "code",
   "execution_count": 7,
   "id": "b90e32f1-f79c-490e-b25b-2221b3c48dcf",
   "metadata": {},
   "outputs": [],
   "source": [
    "# Sample input text\n",
    "text = \"\"\"\n",
    "Information retrieval is the process of obtaining relevant information from a collection of resources. \n",
    "This involves techniques from natural language processing and data science to enhance search capabilities.\n",
    "\"\"\"\n",
    "\n",
    "# If you want to take user input, uncomment the line below:\n",
    "# text = input(\"Enter your text: \")"
   ]
  },
  {
   "cell_type": "code",
   "execution_count": 9,
   "id": "bb6ac8f2-5281-4c6b-a179-2e8e804683b8",
   "metadata": {},
   "outputs": [
    {
     "name": "stdout",
     "output_type": "stream",
     "text": [
      "Tokens:\n",
      " ['Information', 'retrieval', 'is', 'the', 'process', 'of', 'obtaining', 'relevant', 'information', 'from', 'a', 'collection', 'of', 'resources', '.', 'This', 'involves', 'techniques', 'from', 'natural', 'language', 'processing', 'and', 'data', 'science', 'to', 'enhance', 'search', 'capabilities', '.']\n"
     ]
    }
   ],
   "source": [
    "#step 1: Tokenization\n",
    "tokens = word_tokenize(text)\n",
    "print(\"Tokens:\\n\",tokens)"
   ]
  },
  {
   "cell_type": "code",
   "execution_count": 11,
   "id": "b50b9941-3c9b-43b6-8827-097885f4486e",
   "metadata": {},
   "outputs": [
    {
     "name": "stdout",
     "output_type": "stream",
     "text": [
      "Filtered Tokens (no stopwords):\n",
      " ['Information', 'retrieval', 'process', 'obtaining', 'relevant', 'information', 'collection', 'resources', 'involves', 'techniques', 'natural', 'language', 'processing', 'data', 'science', 'enhance', 'search', 'capabilities']\n"
     ]
    }
   ],
   "source": [
    "#step 2: Remove stop words\n",
    "stop_words = set(stopwords.words('english'))\n",
    "filtered_tokens = [word for word in tokens if word.lower() not in stop_words and word.isalpha()]\n",
    "print(\"Filtered Tokens (no stopwords):\\n\",filtered_tokens)"
   ]
  },
  {
   "cell_type": "code",
   "execution_count": 17,
   "id": "885f5c76-4dd7-4096-b618-730a3623cb10",
   "metadata": {},
   "outputs": [
    {
     "name": "stdout",
     "output_type": "stream",
     "text": [
      "Word Frequencies:\n",
      " Counter({'of': 2, 'from': 2, '.': 2, 'Information': 1, 'retrieval': 1, 'is': 1, 'the': 1, 'process': 1, 'obtaining': 1, 'relevant': 1, 'information': 1, 'a': 1, 'collection': 1, 'resources': 1, 'This': 1, 'involves': 1, 'techniques': 1, 'natural': 1, 'language': 1, 'processing': 1, 'and': 1, 'data': 1, 'science': 1, 'to': 1, 'enhance': 1, 'search': 1, 'capabilities': 1})\n"
     ]
    }
   ],
   "source": [
    "#step 3: Count word frequency\n",
    "word_freq = Counter(tokens)\n",
    "print(\"Word Frequencies:\\n\",word_freq)"
   ]
  },
  {
   "cell_type": "code",
   "execution_count": 15,
   "id": "326000f1-9479-4eee-aff5-cc5fa90ec64d",
   "metadata": {},
   "outputs": [
    {
     "name": "stdout",
     "output_type": "stream",
     "text": [
      "POS Tagging:\n",
      " [('Information', 'NN'), ('retrieval', 'NN'), ('process', 'NN'), ('obtaining', 'VBG'), ('relevant', 'JJ'), ('information', 'NN'), ('collection', 'NN'), ('resources', 'NNS'), ('involves', 'VBZ'), ('techniques', 'NNS'), ('natural', 'JJ'), ('language', 'NN'), ('processing', 'NN'), ('data', 'NNS'), ('science', 'NN'), ('enhance', 'NN'), ('search', 'NN'), ('capabilities', 'NNS')]\n"
     ]
    }
   ],
   "source": [
    "#step 4: POS Tagging\n",
    "pos_tags = nltk.pos_tag(filtered_tokens)\n",
    "print(\"POS Tagging:\\n\",pos_tags)"
   ]
  },
  {
   "cell_type": "code",
   "execution_count": null,
   "id": "7081053e-d00f-4937-b125-485990ceec38",
   "metadata": {},
   "outputs": [],
   "source": []
  },
  {
   "cell_type": "code",
   "execution_count": null,
   "id": "08dd7e31-508d-4321-8f84-62d0cf243816",
   "metadata": {},
   "outputs": [],
   "source": []
  }
 ],
 "metadata": {
  "kernelspec": {
   "display_name": "Python 3 (ipykernel)",
   "language": "python",
   "name": "python3"
  },
  "language_info": {
   "codemirror_mode": {
    "name": "ipython",
    "version": 3
   },
   "file_extension": ".py",
   "mimetype": "text/x-python",
   "name": "python",
   "nbconvert_exporter": "python",
   "pygments_lexer": "ipython3",
   "version": "3.12.4"
  }
 },
 "nbformat": 4,
 "nbformat_minor": 5
}
